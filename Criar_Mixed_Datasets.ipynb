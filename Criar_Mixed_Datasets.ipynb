{
 "cells": [
  {
   "cell_type": "markdown",
   "id": "f6977d47-2e7c-425a-97ac-8f48eec8f29c",
   "metadata": {},
   "source": [
    "# Analisar Datasets"
   ]
  },
  {
   "cell_type": "markdown",
   "id": "99de0d27-926d-4335-9004-89472914147e",
   "metadata": {},
   "source": [
    "O Estudo2_Recriado e o UAVS_RawImages são usados tanto para train como para val. Mas o FireMan dataset está subdividido, vamos começar por juntá-lo:"
   ]
  },
  {
   "cell_type": "code",
   "execution_count": 3,
   "id": "27b5192b-5a96-4332-8395-66841eb6eaaa",
   "metadata": {},
   "outputs": [
    {
     "name": "stdout",
     "output_type": "stream",
     "text": [
      "                                          image_path label_cat  label_bi  \\\n",
      "0  /home/magda/Estagio/Datasets/FireMan/train/Fir...      Fire         1   \n",
      "1  /home/magda/Estagio/Datasets/FireMan/val/Fire/...      Fire         1   \n",
      "2  /home/magda/Estagio/Datasets/FireMan/train/No_...   No_Fire         0   \n",
      "3  /home/magda/Estagio/Datasets/FireMan/train/No_...   No_Fire         0   \n",
      "4  /home/magda/Estagio/Datasets/FireMan/train/Fir...      Fire         1   \n",
      "\n",
      "   split  \n",
      "0  train  \n",
      "1    val  \n",
      "2  train  \n",
      "3  train  \n",
      "4  train  \n"
     ]
    }
   ],
   "source": [
    "import pandas as pd\n",
    "from sklearn.utils import shuffle\n",
    "\n",
    "# Carregar os datasets\n",
    "fireman_train = pd.read_csv('Datasets/FireMan_train.csv')\n",
    "fireman_val = pd.read_csv('Datasets/FireMan_val.csv')\n",
    "\n",
    "# Juntar dois datasets\n",
    "fireman = pd.concat([fireman_train, fireman_val], ignore_index=True)\n",
    "# Embaralhar as linhas\n",
    "fireman = shuffle(fireman).reset_index(drop=True)\n",
    "\n",
    "# Ver um preview\n",
    "print(fireman.head())"
   ]
  },
  {
   "cell_type": "markdown",
   "id": "7d509cd9-c734-4a79-b157-0c3ec56098c3",
   "metadata": {},
   "source": [
    "Agora vamos analisar rapidamente cada dataset:"
   ]
  },
  {
   "cell_type": "code",
   "execution_count": 6,
   "id": "27a646b4-5b65-464e-b17e-f1633d54101d",
   "metadata": {},
   "outputs": [
    {
     "name": "stdout",
     "output_type": "stream",
     "text": [
      "Dataset FLAME:\n",
      "  Total de entradas: 5615\n",
      "  label_bi = 1: 2854\n",
      "  label_bi = 0: 2761\n",
      "\n",
      "Dataset UAVS RawImages:\n",
      "  Total de entradas: 1643\n",
      "  label_bi = 1: 1145\n",
      "  label_bi = 0: 498\n",
      "\n",
      "Dataset UAVS AugmentedImages:\n",
      "  Total de entradas: 15560\n",
      "  label_bi = 1: 7780\n",
      "  label_bi = 0: 7780\n",
      "\n",
      "Dataset FireMan:\n",
      "  Total de entradas: 5924\n",
      "  label_bi = 1: 5471\n",
      "  label_bi = 0: 453\n",
      "\n",
      "Dataset FireMan test:\n",
      "  Total de entradas: 589\n",
      "  label_bi = 1: 556\n",
      "  label_bi = 0: 33\n",
      "\n"
     ]
    }
   ],
   "source": [
    "# Carregar os datasets\n",
    "flame = pd.read_csv('Datasets/Estudo2_Recriado.csv')\n",
    "uavs = pd.read_csv('Datasets/UAVS_RawImages.csv')\n",
    "fireman_test = pd.read_csv('Datasets/FireMan_test.csv')\n",
    "uavs_test = pd.read_csv('Datasets/UAVS_AugmentedImages.csv')\n",
    "\n",
    "\n",
    "# Função para exibir estatísticas do dataset\n",
    "def analisar_dataset(nome, df):\n",
    "    total = len(df)\n",
    "    label_1 = (df['label_bi'] == 1).sum()\n",
    "    label_0 = (df['label_bi'] == 0).sum()\n",
    "    print(f\"{nome}:\")\n",
    "    print(f\"  Total de entradas: {total}\")\n",
    "    print(f\"  label_bi = 1: {label_1}\")\n",
    "    print(f\"  label_bi = 0: {label_0}\\n\")\n",
    "\n",
    "# Analisar os três datasets\n",
    "analisar_dataset(\"Dataset FLAME\", flame)\n",
    "analisar_dataset(\"Dataset UAVS RawImages\", uavs)\n",
    "analisar_dataset(\"Dataset UAVS AugmentedImages\", uavs_test)\n",
    "analisar_dataset(\"Dataset FireMan\", fireman)\n",
    "analisar_dataset(\"Dataset FireMan test\", fireman_test)"
   ]
  },
  {
   "cell_type": "markdown",
   "id": "b79f24f4-2a82-45e1-a407-2eee67922da8",
   "metadata": {},
   "source": [
    "# Juntar os datasets sem querer saber"
   ]
  },
  {
   "cell_type": "code",
   "execution_count": 7,
   "id": "cec636e6-d290-4952-8a72-974f1db1fe67",
   "metadata": {},
   "outputs": [],
   "source": [
    "from sklearn.model_selection import train_test_split\n",
    "# Faz o split: 10% para teste, 90% para treino e validação\n",
    "flame_treino, flame_teste = train_test_split(flame, test_size=0.10, random_state=42, shuffle=True)"
   ]
  },
  {
   "cell_type": "markdown",
   "id": "770bd73c-ace2-417c-8b2d-433dfe5af61b",
   "metadata": {},
   "source": [
    "## FLAME + UAVS"
   ]
  },
  {
   "cell_type": "code",
   "execution_count": 8,
   "id": "143a320c-3282-47f9-bed7-ee2b935cfc62",
   "metadata": {},
   "outputs": [
    {
     "name": "stdout",
     "output_type": "stream",
     "text": [
      "Dataset combinado e embaralhado guardado como 'test_1_train.csv'\n"
     ]
    }
   ],
   "source": [
    "# Junta os datasets\n",
    "df_combinado = pd.concat([flame_treino, uavs], ignore_index=True)\n",
    "# Embaralha os dados\n",
    "df_combinado = shuffle(df_combinado, random_state=42).reset_index(drop=True)\n",
    "# Guarda o dataset embaralhado em CSV\n",
    "df_combinado.to_csv('test_1_train.csv', index=False)\n",
    "\n",
    "print(\"Dataset combinado e embaralhado guardado como 'test_1_train.csv'\")"
   ]
  },
  {
   "cell_type": "code",
   "execution_count": 3,
   "id": "effb47b1-d1a3-4e7f-bc1b-645ae486c2c8",
   "metadata": {},
   "outputs": [
    {
     "name": "stdout",
     "output_type": "stream",
     "text": [
      "Número total de entradas: 6696\n",
      "\n",
      "Número de imagens com fogo e sem fogo:\n",
      "  Fire: 3724\n",
      "  No_Fire: 2972\n",
      "\n",
      "Distribuição dos valores na coluna 'split':\n",
      "  Training: 4121\n",
      "  Test: 932\n",
      "  Pre-Evening Fire Incident_raw_img: 791\n",
      "  Evening Fire Incident_raw_img: 354\n",
      "  Evening Forest condition_raw_img: 286\n",
      "  Pre-evening Forest condition_raw_img: 212\n"
     ]
    }
   ],
   "source": [
    "analisar_dataset(\"Datasets_Mixed/test_1_train.csv\")"
   ]
  },
  {
   "cell_type": "code",
   "execution_count": 9,
   "id": "e63dd54d-2846-415f-99e1-f4cc042b1fde",
   "metadata": {},
   "outputs": [
    {
     "name": "stdout",
     "output_type": "stream",
     "text": [
      "Dataset combinado e embaralhado guardado como 'test_1_test.csv'\n"
     ]
    }
   ],
   "source": [
    "# Junta os datasets\n",
    "df_combinado = pd.concat([flame_teste, uavs_test], ignore_index=True)\n",
    "# Embaralha os dados\n",
    "df_combinado = shuffle(df_combinado, random_state=42).reset_index(drop=True)\n",
    "# Guarda o dataset embaralhado em CSV\n",
    "df_combinado.to_csv('test_1_test.csv', index=False)\n",
    "\n",
    "print(\"Dataset combinado e embaralhado guardado como 'test_1_test.csv'\")"
   ]
  },
  {
   "cell_type": "code",
   "execution_count": 4,
   "id": "094e9f35-7e1b-4d11-902d-74eb2f521938",
   "metadata": {},
   "outputs": [
    {
     "name": "stdout",
     "output_type": "stream",
     "text": [
      "Número total de entradas: 16122\n",
      "\n",
      "Número de imagens com fogo e sem fogo:\n",
      "  No_Fire: 8067\n",
      "  Fire: 8055\n",
      "\n",
      "Distribuição dos valores na coluna 'split':\n",
      "  Pre-_Evening_Fire_Incident_aug_img: 3890\n",
      "  Evening_Fire_Incident_aug_img: 3890\n",
      "  Pre-_Evening_Forest_Condition_aug_img: 3890\n",
      "  Evening_Forest_Condition_aug_img: 3890\n",
      "  Training: 464\n",
      "  Test: 98\n"
     ]
    }
   ],
   "source": [
    "analisar_dataset(\"Datasets_Mixed/test_1_test.csv\")"
   ]
  },
  {
   "cell_type": "markdown",
   "id": "48cf8586-42cf-4c30-b6d5-b01c5a9f40c6",
   "metadata": {},
   "source": [
    "## FLAME + FireMan"
   ]
  },
  {
   "cell_type": "code",
   "execution_count": 10,
   "id": "431db671-1b85-4b67-b2b9-efa896996036",
   "metadata": {},
   "outputs": [
    {
     "name": "stdout",
     "output_type": "stream",
     "text": [
      "Dataset combinado e embaralhado guardado como 'test_2_train.csv'\n"
     ]
    }
   ],
   "source": [
    "# Junta os datasets\n",
    "df_combinado = pd.concat([flame_treino, fireman], ignore_index=True)\n",
    "# Embaralha os dados\n",
    "df_combinado = shuffle(df_combinado, random_state=42).reset_index(drop=True)\n",
    "# Guarda o dataset embaralhado em CSV\n",
    "df_combinado.to_csv('test_2_train.csv', index=False)\n",
    "\n",
    "print(\"Dataset combinado e embaralhado guardado como 'test_2_train.csv'\")"
   ]
  },
  {
   "cell_type": "code",
   "execution_count": 5,
   "id": "09d41614-92a2-491f-ba5c-1183e7cfb010",
   "metadata": {},
   "outputs": [
    {
     "name": "stdout",
     "output_type": "stream",
     "text": [
      "Número total de entradas: 10977\n",
      "\n",
      "Número de imagens com fogo e sem fogo:\n",
      "  Fire: 8050\n",
      "  No_Fire: 2927\n",
      "\n",
      "Distribuição dos valores na coluna 'split':\n",
      "  train: 5313\n",
      "  Training: 4121\n",
      "  Test: 932\n",
      "  val: 611\n"
     ]
    }
   ],
   "source": [
    "analisar_dataset(\"Datasets_Mixed/test_2_train.csv\")"
   ]
  },
  {
   "cell_type": "code",
   "execution_count": 11,
   "id": "b1b7740d-999b-4708-a8de-93d60b4c962d",
   "metadata": {},
   "outputs": [
    {
     "name": "stdout",
     "output_type": "stream",
     "text": [
      "Dataset combinado e embaralhado guardado como 'test_2_test.csv'\n"
     ]
    }
   ],
   "source": [
    "# Junta os datasets\n",
    "df_combinado = pd.concat([flame_teste, fireman_test], ignore_index=True)\n",
    "# Embaralha os dados\n",
    "df_combinado = shuffle(df_combinado, random_state=42).reset_index(drop=True)\n",
    "# Guarda o dataset embaralhado em CSV\n",
    "df_combinado.to_csv('test_2_test.csv', index=False)\n",
    "\n",
    "print(\"Dataset combinado e embaralhado guardado como 'test_2_test.csv'\")"
   ]
  },
  {
   "cell_type": "code",
   "execution_count": 6,
   "id": "d445bd10-f61a-40bd-a409-f4648c93159f",
   "metadata": {},
   "outputs": [
    {
     "name": "stdout",
     "output_type": "stream",
     "text": [
      "Número total de entradas: 1151\n",
      "\n",
      "Número de imagens com fogo e sem fogo:\n",
      "  Fire: 831\n",
      "  No_Fire: 320\n",
      "\n",
      "Distribuição dos valores na coluna 'split':\n",
      "  test: 589\n",
      "  Training: 464\n",
      "  Test: 98\n"
     ]
    }
   ],
   "source": [
    "analisar_dataset(\"Datasets_Mixed/test_2_test.csv\")"
   ]
  },
  {
   "cell_type": "markdown",
   "id": "bed02a00-8b00-4c75-b1a3-ff178de5991b",
   "metadata": {},
   "source": [
    "## UAVS + Fireman"
   ]
  },
  {
   "cell_type": "code",
   "execution_count": 12,
   "id": "caacb758-4de7-4cfe-9d2d-879fb68b709c",
   "metadata": {},
   "outputs": [
    {
     "name": "stdout",
     "output_type": "stream",
     "text": [
      "Dataset combinado e embaralhado guardado como 'test_3_train.csv'\n"
     ]
    }
   ],
   "source": [
    "# Junta os datasets\n",
    "df_combinado = pd.concat([uavs, fireman], ignore_index=True)\n",
    "# Embaralha os dados\n",
    "df_combinado = shuffle(df_combinado, random_state=42).reset_index(drop=True)\n",
    "# Guarda o dataset embaralhado em CSV\n",
    "df_combinado.to_csv('test_3_train.csv', index=False)\n",
    "\n",
    "print(\"Dataset combinado e embaralhado guardado como 'test_3_train.csv'\")"
   ]
  },
  {
   "cell_type": "code",
   "execution_count": 7,
   "id": "c35d35c4-15d2-4411-8b3f-b1a88d2e7cab",
   "metadata": {},
   "outputs": [
    {
     "name": "stdout",
     "output_type": "stream",
     "text": [
      "Número total de entradas: 7567\n",
      "\n",
      "Número de imagens com fogo e sem fogo:\n",
      "  Fire: 6616\n",
      "  No_Fire: 951\n",
      "\n",
      "Distribuição dos valores na coluna 'split':\n",
      "  train: 5313\n",
      "  Pre-Evening Fire Incident_raw_img: 791\n",
      "  val: 611\n",
      "  Evening Fire Incident_raw_img: 354\n",
      "  Evening Forest condition_raw_img: 286\n",
      "  Pre-evening Forest condition_raw_img: 212\n"
     ]
    }
   ],
   "source": [
    "analisar_dataset(\"Datasets_Mixed/test_3_train.csv\")"
   ]
  },
  {
   "cell_type": "code",
   "execution_count": 13,
   "id": "713d15e1-590b-4bb2-b8e6-9fb82870a0f0",
   "metadata": {},
   "outputs": [
    {
     "name": "stdout",
     "output_type": "stream",
     "text": [
      "Dataset combinado e embaralhado guardado como 'test_3_test.csv'\n"
     ]
    }
   ],
   "source": [
    "# Junta os datasets\n",
    "df_combinado = pd.concat([uavs_test, fireman_test], ignore_index=True)\n",
    "# Embaralha os dados\n",
    "df_combinado = shuffle(df_combinado, random_state=42).reset_index(drop=True)\n",
    "# Guarda o dataset embaralhado em CSV\n",
    "df_combinado.to_csv('test_3_test.csv', index=False)\n",
    "\n",
    "print(\"Dataset combinado e embaralhado guardado como 'test_3_test.csv'\")"
   ]
  },
  {
   "cell_type": "code",
   "execution_count": 9,
   "id": "978dc6f1-73fd-4e61-a3d7-64cee0dde8a9",
   "metadata": {},
   "outputs": [
    {
     "name": "stdout",
     "output_type": "stream",
     "text": [
      "Número total de entradas: 16149\n",
      "\n",
      "Número de imagens com fogo e sem fogo:\n",
      "  Fire: 8336\n",
      "  No_Fire: 7813\n",
      "\n",
      "Distribuição dos valores na coluna 'split':\n",
      "  Pre-_Evening_Fire_Incident_aug_img: 3890\n",
      "  Evening_Forest_Condition_aug_img: 3890\n",
      "  Evening_Fire_Incident_aug_img: 3890\n",
      "  Pre-_Evening_Forest_Condition_aug_img: 3890\n",
      "  test: 589\n"
     ]
    }
   ],
   "source": [
    "analisar_dataset(\"Datasets_Mixed/test_3_test.csv\")"
   ]
  },
  {
   "cell_type": "markdown",
   "id": "db405ae7-73b5-4c07-8665-9e9c84d4450c",
   "metadata": {},
   "source": [
    "## Todos"
   ]
  },
  {
   "cell_type": "code",
   "execution_count": 14,
   "id": "861e9fd5-838e-46e6-a7c1-c9c0cf4a8d65",
   "metadata": {},
   "outputs": [
    {
     "name": "stdout",
     "output_type": "stream",
     "text": [
      "Dataset combinado e embaralhado guardado como 'test_4_train.csv'\n"
     ]
    }
   ],
   "source": [
    "# Junta os datasets\n",
    "df_combinado = pd.concat([flame_treino, uavs, fireman], ignore_index=True)\n",
    "# Embaralha os dados\n",
    "df_combinado = shuffle(df_combinado, random_state=42).reset_index(drop=True)\n",
    "# Guarda o dataset embaralhado em CSV\n",
    "df_combinado.to_csv('test_4_train.csv', index=False)\n",
    "\n",
    "print(\"Dataset combinado e embaralhado guardado como 'test_4_train.csv'\")"
   ]
  },
  {
   "cell_type": "code",
   "execution_count": 10,
   "id": "d9040e37-9eef-4781-8b8e-bbb3e26cd0a7",
   "metadata": {},
   "outputs": [
    {
     "name": "stdout",
     "output_type": "stream",
     "text": [
      "Número total de entradas: 12620\n",
      "\n",
      "Número de imagens com fogo e sem fogo:\n",
      "  Fire: 9195\n",
      "  No_Fire: 3425\n",
      "\n",
      "Distribuição dos valores na coluna 'split':\n",
      "  train: 5313\n",
      "  Training: 4121\n",
      "  Test: 932\n",
      "  Pre-Evening Fire Incident_raw_img: 791\n",
      "  val: 611\n",
      "  Evening Fire Incident_raw_img: 354\n",
      "  Evening Forest condition_raw_img: 286\n",
      "  Pre-evening Forest condition_raw_img: 212\n"
     ]
    }
   ],
   "source": [
    "analisar_dataset(\"Datasets_Mixed/test_4_train.csv\")"
   ]
  },
  {
   "cell_type": "code",
   "execution_count": 15,
   "id": "69ab5518-c60c-493d-979a-71eeb6629c62",
   "metadata": {},
   "outputs": [
    {
     "name": "stdout",
     "output_type": "stream",
     "text": [
      "Dataset combinado e embaralhado guardado como 'test_4_test.csv'\n"
     ]
    }
   ],
   "source": [
    "# Junta os datasets\n",
    "df_combinado = pd.concat([flame_teste, fireman_test], ignore_index=True)\n",
    "# Embaralha os dados\n",
    "df_combinado = shuffle(df_combinado, random_state=42).reset_index(drop=True)\n",
    "# Guarda o dataset embaralhado em CSV\n",
    "df_combinado.to_csv('test_4_test.csv', index=False)\n",
    "\n",
    "print(\"Dataset combinado e embaralhado guardado como 'test_4_test.csv'\")"
   ]
  },
  {
   "cell_type": "code",
   "execution_count": 11,
   "id": "d370276c-991f-4043-85ec-97befb5295b0",
   "metadata": {},
   "outputs": [
    {
     "name": "stdout",
     "output_type": "stream",
     "text": [
      "Número total de entradas: 1151\n",
      "\n",
      "Número de imagens com fogo e sem fogo:\n",
      "  Fire: 831\n",
      "  No_Fire: 320\n",
      "\n",
      "Distribuição dos valores na coluna 'split':\n",
      "  test: 589\n",
      "  Training: 464\n",
      "  Test: 98\n"
     ]
    }
   ],
   "source": [
    "analisar_dataset(\"Datasets_Mixed/test_4_test.csv\")"
   ]
  },
  {
   "cell_type": "markdown",
   "id": "a7028fad-6414-487c-b03f-d0ff36fe63b7",
   "metadata": {},
   "source": [
    "# Juntar os datasets com lógica"
   ]
  },
  {
   "cell_type": "markdown",
   "id": "0818b58b-03bb-4ec6-8fcf-50a6e890cb29",
   "metadata": {},
   "source": [
    "Dataset FLAME:\n",
    "- Total de entradas: 5615\n",
    "- label_bi = 1: 2854\n",
    "- label_bi = 0: 2761\n",
    "\n",
    "Dataset UAVS RawImages:\n",
    "- Total de entradas: 1643\n",
    "- label_bi = 1: 1145\n",
    "- label_bi = 0: 498\n",
    "\n",
    "Dataset UAVS AugmentedImages:\n",
    "- Total de entradas: 15560\n",
    "- label_bi = 1: 7780\n",
    "- label_bi = 0: 7780\n",
    "\n",
    "Dataset FireMan:\n",
    "- Total de entradas: 5924\n",
    "- label_bi = 1: 5471\n",
    "- label_bi = 0: 453\n",
    "\n",
    "Dataset FireMan test:\n",
    "- Total de entradas: 589\n",
    "- label_bi = 1: 556\n",
    "- label_bi = 0: 33"
   ]
  },
  {
   "cell_type": "markdown",
   "id": "cbccde60-9908-49a4-aae7-7e3ff09a3c40",
   "metadata": {},
   "source": [
    "## FLAME + UAVS"
   ]
  },
  {
   "cell_type": "markdown",
   "id": "08d811eb-1b85-46e7-850e-ecf7de5adcce",
   "metadata": {},
   "source": [
    "Tiramos ao FLAME 1643 imagens para ter o mesmo número de imagens que o UAVS. As imagens restantes vão para o dataset de teste."
   ]
  },
  {
   "cell_type": "code",
   "execution_count": 16,
   "id": "9f0fc2e8-49e1-4979-9e8f-17bed8adf06c",
   "metadata": {},
   "outputs": [],
   "source": [
    "# Número de imagens a escolher\n",
    "x = 1643\n",
    "# Faz split: pega 'x' imagens aleatórias e o resto vai para outra variável\n",
    "flame_t_v, flame_t = train_test_split(flame, train_size=x, random_state=42, shuffle=True)"
   ]
  },
  {
   "cell_type": "code",
   "execution_count": 17,
   "id": "88c722f4-d91d-472c-bc8f-13f53287e3ff",
   "metadata": {},
   "outputs": [
    {
     "name": "stdout",
     "output_type": "stream",
     "text": [
      "Dataset combinado e embaralhado guardado como 'mixed_1_train.csv'\n"
     ]
    }
   ],
   "source": [
    "# Junta os datasets\n",
    "df_combinado = pd.concat([flame_t_v, uavs], ignore_index=True)\n",
    "# Embaralha os dados\n",
    "df_combinado = shuffle(df_combinado, random_state=42).reset_index(drop=True)\n",
    "# Guarda o dataset embaralhado em CSV\n",
    "df_combinado.to_csv('mixed_1_train.csv', index=False)\n",
    "\n",
    "print(\"Dataset combinado e embaralhado guardado como 'mixed_1_train.csv'\")"
   ]
  },
  {
   "cell_type": "code",
   "execution_count": 12,
   "id": "79738f71-deaf-42f0-b93b-e1ca79e9be1c",
   "metadata": {},
   "outputs": [
    {
     "name": "stdout",
     "output_type": "stream",
     "text": [
      "Número total de entradas: 3286\n",
      "\n",
      "Número de imagens com fogo e sem fogo:\n",
      "  Fire: 1995\n",
      "  No_Fire: 1291\n",
      "\n",
      "Distribuição dos valores na coluna 'split':\n",
      "  Training: 1338\n",
      "  Pre-Evening Fire Incident_raw_img: 791\n",
      "  Evening Fire Incident_raw_img: 354\n",
      "  Test: 305\n",
      "  Evening Forest condition_raw_img: 286\n",
      "  Pre-evening Forest condition_raw_img: 212\n"
     ]
    }
   ],
   "source": [
    "analisar_dataset(\"Datasets_Mixed/mixed_1_train.csv\")"
   ]
  },
  {
   "cell_type": "code",
   "execution_count": 18,
   "id": "e74ffc65-0ffa-42b8-82b9-60422072cf27",
   "metadata": {},
   "outputs": [
    {
     "name": "stdout",
     "output_type": "stream",
     "text": [
      "Dataset combinado e embaralhado guardado como 'mixed_1_test.csv'\n"
     ]
    }
   ],
   "source": [
    "# Junta os datasets\n",
    "df_combinado = pd.concat([flame_t, uavs_test], ignore_index=True)\n",
    "# Embaralha os dados\n",
    "df_combinado = shuffle(df_combinado, random_state=42).reset_index(drop=True)\n",
    "# Guarda o dataset embaralhado em CSV\n",
    "df_combinado.to_csv('mixed_1_test.csv', index=False)\n",
    "\n",
    "print(\"Dataset combinado e embaralhado guardado como 'mixed_1_test.csv'\")"
   ]
  },
  {
   "cell_type": "code",
   "execution_count": 13,
   "id": "403aba05-4f16-4f69-89b1-a2b7105d72a5",
   "metadata": {},
   "outputs": [
    {
     "name": "stdout",
     "output_type": "stream",
     "text": [
      "Número total de entradas: 19532\n",
      "\n",
      "Número de imagens com fogo e sem fogo:\n",
      "  Fire: 9784\n",
      "  No_Fire: 9748\n",
      "\n",
      "Distribuição dos valores na coluna 'split':\n",
      "  Evening_Fire_Incident_aug_img: 3890\n",
      "  Pre-_Evening_Fire_Incident_aug_img: 3890\n",
      "  Evening_Forest_Condition_aug_img: 3890\n",
      "  Pre-_Evening_Forest_Condition_aug_img: 3890\n",
      "  Training: 3247\n",
      "  Test: 725\n"
     ]
    }
   ],
   "source": [
    "analisar_dataset(\"Datasets_Mixed/mixed_1_test.csv\")"
   ]
  },
  {
   "cell_type": "markdown",
   "id": "22b4163f-925a-4f47-99f5-b34c13c47d40",
   "metadata": {},
   "source": [
    "## FLAME + FireMan"
   ]
  },
  {
   "cell_type": "markdown",
   "id": "e73ed9bb-4b1f-41a4-a92b-609567fc5792",
   "metadata": {},
   "source": [
    "Tiramos ao FireMan 5615 imagens para ter o mesmo número de imagens que o FLAME. As imagens restantes vão para o dataset de teste."
   ]
  },
  {
   "cell_type": "code",
   "execution_count": 19,
   "id": "34497343-375e-4582-a5e9-b378789d52a9",
   "metadata": {},
   "outputs": [],
   "source": [
    "# Número de imagens a escolher\n",
    "x = 5615\n",
    "# Faz split: pega 'x' imagens aleatórias e o resto vai para outra variável\n",
    "fireman_t_v, fireman_t = train_test_split(fireman, train_size=x, random_state=42, shuffle=True)"
   ]
  },
  {
   "cell_type": "code",
   "execution_count": 20,
   "id": "879c36b4-d675-4b94-9e7b-8078aa0bd316",
   "metadata": {},
   "outputs": [
    {
     "name": "stdout",
     "output_type": "stream",
     "text": [
      "Dataset combinado e embaralhado guardado como 'mixed_1_train.csv'\n"
     ]
    }
   ],
   "source": [
    "# Junta os datasets\n",
    "df_combinado = pd.concat([flame_treino, fireman_t_v], ignore_index=True)\n",
    "# Embaralha os dados\n",
    "df_combinado = shuffle(df_combinado, random_state=42).reset_index(drop=True)\n",
    "# Guarda o dataset embaralhado em CSV\n",
    "df_combinado.to_csv('mixed_2_train.csv', index=False)\n",
    "\n",
    "print(\"Dataset combinado e embaralhado guardado como 'mixed_2_train.csv'\")"
   ]
  },
  {
   "cell_type": "code",
   "execution_count": 14,
   "id": "322a11cf-01fc-4d35-91bd-7c7b35a10dab",
   "metadata": {},
   "outputs": [
    {
     "name": "stdout",
     "output_type": "stream",
     "text": [
      "Número total de entradas: 10668\n",
      "\n",
      "Número de imagens com fogo e sem fogo:\n",
      "  Fire: 7758\n",
      "  No_Fire: 2910\n",
      "\n",
      "Distribuição dos valores na coluna 'split':\n",
      "  train: 5038\n",
      "  Training: 4121\n",
      "  Test: 932\n",
      "  val: 577\n"
     ]
    }
   ],
   "source": [
    "analisar_dataset(\"Datasets_Mixed/mixed_2_train.csv\")"
   ]
  },
  {
   "cell_type": "code",
   "execution_count": 21,
   "id": "2ee63770-f46a-4cb0-93b7-0a37f7eca15b",
   "metadata": {},
   "outputs": [
    {
     "name": "stdout",
     "output_type": "stream",
     "text": [
      "Dataset combinado e embaralhado guardado como 'mixed_1_test.csv'\n"
     ]
    }
   ],
   "source": [
    "# Junta os datasets\n",
    "df_combinado = pd.concat([flame_teste, fireman_t, fireman_test], ignore_index=True)\n",
    "# Embaralha os dados\n",
    "df_combinado = shuffle(df_combinado, random_state=42).reset_index(drop=True)\n",
    "# Guarda o dataset embaralhado em CSV\n",
    "df_combinado.to_csv('mixed_2_test.csv', index=False)\n",
    "\n",
    "print(\"Dataset combinado e embaralhado guardado como 'mixed_2_test.csv'\")"
   ]
  },
  {
   "cell_type": "code",
   "execution_count": 15,
   "id": "3e2e2603-b188-42a0-b1fa-d54628b6f30f",
   "metadata": {},
   "outputs": [
    {
     "name": "stdout",
     "output_type": "stream",
     "text": [
      "Número total de entradas: 1460\n",
      "\n",
      "Número de imagens com fogo e sem fogo:\n",
      "  Fire: 1123\n",
      "  No_Fire: 337\n",
      "\n",
      "Distribuição dos valores na coluna 'split':\n",
      "  test: 589\n",
      "  Training: 464\n",
      "  train: 275\n",
      "  Test: 98\n",
      "  val: 34\n"
     ]
    }
   ],
   "source": [
    "analisar_dataset(\"Datasets_Mixed/mixed_2_test.csv\")"
   ]
  },
  {
   "cell_type": "markdown",
   "id": "52b83c5c-94e9-490c-acc7-be517833231e",
   "metadata": {},
   "source": [
    "## UAVS + FireMan"
   ]
  },
  {
   "cell_type": "code",
   "execution_count": null,
   "id": "5a92fd9d-b186-408d-95d8-222af20b03c2",
   "metadata": {},
   "outputs": [],
   "source": [
    "# Número de imagens a escolher\n",
    "x = 1643\n",
    "# Faz split: pega 'x' imagens aleatórias e o resto vai para outra variável\n",
    "fireman_t_v, fireman_t = train_test_split(fireman, train_size=x, random_state=42, shuffle=True)"
   ]
  },
  {
   "cell_type": "code",
   "execution_count": null,
   "id": "3bf10746-1aa6-4226-92b6-76e8cd652fd1",
   "metadata": {},
   "outputs": [],
   "source": [
    "# Junta os datasets\n",
    "df_combinado = pd.concat([uavs, fireman_t_v], ignore_index=True)\n",
    "# Embaralha os dados\n",
    "df_combinado = shuffle(df_combinado, random_state=42).reset_index(drop=True)\n",
    "# Guarda o dataset embaralhado em CSV\n",
    "df_combinado.to_csv('mixed_3_train.csv', index=False)\n",
    "\n",
    "print(\"Dataset combinado e embaralhado guardado como 'mixed_3_train.csv'\")"
   ]
  },
  {
   "cell_type": "code",
   "execution_count": 16,
   "id": "489bc4a7-9dac-4e2a-9f9d-4b3e1e418f70",
   "metadata": {},
   "outputs": [
    {
     "name": "stdout",
     "output_type": "stream",
     "text": [
      "Número total de entradas: 3286\n",
      "\n",
      "Número de imagens com fogo e sem fogo:\n",
      "  Fire: 2661\n",
      "  No_Fire: 625\n",
      "\n",
      "Distribuição dos valores na coluna 'split':\n",
      "  train: 1478\n",
      "  Pre-Evening Fire Incident_raw_img: 791\n",
      "  Evening Fire Incident_raw_img: 354\n",
      "  Evening Forest condition_raw_img: 286\n",
      "  Pre-evening Forest condition_raw_img: 212\n",
      "  val: 165\n"
     ]
    }
   ],
   "source": [
    "analisar_dataset(\"Datasets_Mixed/mixed_3_train.csv\")"
   ]
  },
  {
   "cell_type": "code",
   "execution_count": null,
   "id": "6de3c9a5-748a-4d76-afa7-ea34e9775dba",
   "metadata": {},
   "outputs": [],
   "source": [
    "# Junta os datasets\n",
    "df_combinado = pd.concat([uavs_test, fireman_t, fireman_test], ignore_index=True)\n",
    "# Embaralha os dados\n",
    "df_combinado = shuffle(df_combinado, random_state=42).reset_index(drop=True)\n",
    "# Guarda o dataset embaralhado em CSV\n",
    "df_combinado.to_csv('mixed_3_test.csv', index=False)\n",
    "\n",
    "print(\"Dataset combinado e embaralhado guardado como 'mixed_3_test.csv'\")"
   ]
  },
  {
   "cell_type": "code",
   "execution_count": 17,
   "id": "54e10d29-021f-45ff-bb76-00d284c0418d",
   "metadata": {},
   "outputs": [
    {
     "name": "stdout",
     "output_type": "stream",
     "text": [
      "Número total de entradas: 20430\n",
      "\n",
      "Número de imagens com fogo e sem fogo:\n",
      "  Fire: 12291\n",
      "  No_Fire: 8139\n",
      "\n",
      "Distribuição dos valores na coluna 'split':\n",
      "  Pre-_Evening_Fire_Incident_aug_img: 3890\n",
      "  Evening_Fire_Incident_aug_img: 3890\n",
      "  Pre-_Evening_Forest_Condition_aug_img: 3890\n",
      "  Evening_Forest_Condition_aug_img: 3890\n",
      "  train: 3835\n",
      "  test: 589\n",
      "  val: 446\n"
     ]
    }
   ],
   "source": [
    "analisar_dataset(\"Datasets_Mixed/mixed_3_test.csv\")"
   ]
  },
  {
   "cell_type": "markdown",
   "id": "2fcb08c8-8ca0-4808-a1d8-70db02c4cbff",
   "metadata": {},
   "source": [
    "## Todos"
   ]
  },
  {
   "cell_type": "code",
   "execution_count": null,
   "id": "c005a94e-35f2-44a1-9142-abf49554031d",
   "metadata": {},
   "outputs": [],
   "source": [
    "# Número de imagens a escolher\n",
    "x = 1643\n",
    "# Faz split: pega 'x' imagens aleatórias e o resto vai para outra variável\n",
    "flame_t_v, flame_t = train_test_split(flame, train_size=x, random_state=42, shuffle=True)\n",
    "fireman_t_v, fireman_t = train_test_split(fireman, train_size=x, random_state=42, shuffle=True)"
   ]
  },
  {
   "cell_type": "code",
   "execution_count": null,
   "id": "fd6be2ac-fb46-415e-9f2d-c17d6ecf64ac",
   "metadata": {},
   "outputs": [],
   "source": [
    "# Junta os datasets\n",
    "df_combinado = pd.concat([uavs, fireman_t_v], ignore_index=True)\n",
    "# Embaralha os dados\n",
    "df_combinado = shuffle(df_combinado, random_state=42).reset_index(drop=True)\n",
    "# Guarda o dataset embaralhado em CSV\n",
    "df_combinado.to_csv('mixed_4_train.csv', index=False)\n",
    "\n",
    "print(\"Dataset combinado e embaralhado guardado como 'mixed_4_train.csv'\")"
   ]
  },
  {
   "cell_type": "code",
   "execution_count": 18,
   "id": "85c89f25-7ee1-4769-b2d3-b7f0d7594386",
   "metadata": {},
   "outputs": [
    {
     "name": "stdout",
     "output_type": "stream",
     "text": [
      "Número total de entradas: 4929\n",
      "\n",
      "Número de imagens com fogo e sem fogo:\n",
      "  Fire: 3511\n",
      "  No_Fire: 1418\n",
      "\n",
      "Distribuição dos valores na coluna 'split':\n",
      "  train: 1478\n",
      "  Training: 1338\n",
      "  Pre-Evening Fire Incident_raw_img: 791\n",
      "  Evening Fire Incident_raw_img: 354\n",
      "  Test: 305\n",
      "  Evening Forest condition_raw_img: 286\n",
      "  Pre-evening Forest condition_raw_img: 212\n",
      "  val: 165\n"
     ]
    }
   ],
   "source": [
    "analisar_dataset(\"Datasets_Mixed/mixed_4_train.csv\")"
   ]
  },
  {
   "cell_type": "code",
   "execution_count": null,
   "id": "f2ef7f66-8320-4f32-8692-7144f8f49098",
   "metadata": {},
   "outputs": [],
   "source": [
    "# Junta os datasets\n",
    "df_combinado = pd.concat([uavs_test, fireman_t, fireman_test], ignore_index=True)\n",
    "# Embaralha os dados\n",
    "df_combinado = shuffle(df_combinado, random_state=42).reset_index(drop=True)\n",
    "# Guarda o dataset embaralhado em CSV\n",
    "df_combinado.to_csv('mixed_4_test.csv', index=False)\n",
    "\n",
    "print(\"Dataset combinado e embaralhado guardado como 'mixed_4_test.csv'\")"
   ]
  },
  {
   "cell_type": "code",
   "execution_count": 19,
   "id": "bdb732e4-8a48-4fc9-9ed7-c4abfe35f70f",
   "metadata": {},
   "outputs": [
    {
     "name": "stdout",
     "output_type": "stream",
     "text": [
      "Número total de entradas: 24402\n",
      "\n",
      "Número de imagens com fogo e sem fogo:\n",
      "  Fire: 14295\n",
      "  No_Fire: 10107\n",
      "\n",
      "Distribuição dos valores na coluna 'split':\n",
      "  Pre-_Evening_Forest_Condition_aug_img: 3890\n",
      "  Evening_Forest_Condition_aug_img: 3890\n",
      "  Evening_Fire_Incident_aug_img: 3890\n",
      "  Pre-_Evening_Fire_Incident_aug_img: 3890\n",
      "  train: 3835\n",
      "  Training: 3247\n",
      "  Test: 725\n",
      "  test: 589\n",
      "  val: 446\n"
     ]
    }
   ],
   "source": [
    "analisar_dataset(\"Datasets_Mixed/mixed_4_test.csv\")"
   ]
  },
  {
   "cell_type": "markdown",
   "id": "bae69f49-3be8-4e8d-9e5c-1ab397f27a2d",
   "metadata": {},
   "source": [
    "# Analisar os datasets"
   ]
  },
  {
   "cell_type": "code",
   "execution_count": 1,
   "id": "11a66462-0cf7-4610-93bf-767b63a46a67",
   "metadata": {},
   "outputs": [],
   "source": [
    "import pandas as pd\n",
    "\n",
    "def analisar_dataset(caminho_csv):\n",
    "    # Lê o arquivo CSV\n",
    "    df = pd.read_csv(caminho_csv)\n",
    "\n",
    "    # Número total de entradas\n",
    "    total_entradas = len(df)\n",
    "\n",
    "    # Contagem de categorias \"Fire\" e \"No_Fire\"\n",
    "    contagem_fogo = df['label_cat'].value_counts()\n",
    "\n",
    "    # Valores únicos da coluna \"split\" e suas contagens\n",
    "    contagem_split = df['split'].value_counts()\n",
    "\n",
    "    # Exibe os resultados\n",
    "    print(f\"Número total de entradas: {total_entradas}\\n\")\n",
    "\n",
    "    print(\"Número de imagens com fogo e sem fogo:\")\n",
    "    for categoria, quantidade in contagem_fogo.items():\n",
    "        print(f\"  {categoria}: {quantidade}\")\n",
    "\n",
    "    print(\"\\nDistribuição dos valores na coluna 'split':\")\n",
    "    for valor, quantidade in contagem_split.items():\n",
    "        print(f\"  {valor}: {quantidade}\")"
   ]
  },
  {
   "cell_type": "code",
   "execution_count": null,
   "id": "daa6131d-7eed-4c18-9253-c6b121cc6234",
   "metadata": {},
   "outputs": [],
   "source": []
  }
 ],
 "metadata": {
  "kernelspec": {
   "display_name": "Python 3 (ipykernel)",
   "language": "python",
   "name": "python3"
  },
  "language_info": {
   "codemirror_mode": {
    "name": "ipython",
    "version": 3
   },
   "file_extension": ".py",
   "mimetype": "text/x-python",
   "name": "python",
   "nbconvert_exporter": "python",
   "pygments_lexer": "ipython3",
   "version": "3.10.14"
  }
 },
 "nbformat": 4,
 "nbformat_minor": 5
}
